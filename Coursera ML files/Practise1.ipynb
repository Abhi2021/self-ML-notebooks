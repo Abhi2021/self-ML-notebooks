{
 "cells": [
  {
   "cell_type": "markdown",
   "metadata": {},
   "source": [
    "# This is for practise from coursera"
   ]
  },
  {
   "cell_type": "markdown",
   "metadata": {},
   "source": [
    "## Numpy\n",
    "1) This is numerical python module  \n",
    "2) This is used to get solve all the numerical problem solved"
   ]
  },
  {
   "cell_type": "markdown",
   "metadata": {},
   "source": [
    "## Use of numpy array"
   ]
  },
  {
   "cell_type": "code",
   "execution_count": 1,
   "metadata": {},
   "outputs": [
    {
     "name": "stdout",
     "output_type": "stream",
     "text": [
      "<class 'numpy.ndarray'>\n",
      "[1 2 3 4 4 5 6]\n"
     ]
    }
   ],
   "source": [
    "# creating an array and printing the values\n",
    "import numpy as np\n",
    "s =np.array([1,2,3,6,5,4,4])\n",
    "print(type(s))\n",
    "s.sort()\n",
    "print(s)"
   ]
  },
  {
   "cell_type": "markdown",
   "metadata": {},
   "source": [
    "### NOTE:\n",
    "1. **numpy.shape()**: returns the shape of the array in row and column form, if the column number is not same then it only returns the row number.\n",
    "2. **numpy.reshape(arr_name,(row,col))**: this returns an array that is shaped as we have given in the argument. This doesn't effect the original array.\n",
    "3. **numpy.flatten(array_name)**: this is used to convert multidimensional array to 1D array. It creates a copy of the orignal array.\n",
    "4. **numpy.ravel(array_name)**: this is does also the same as above but it affects the orginal array.\n",
    "5. **numpy.traspose(array_name)**: this is used to do the transpose of the 2D array. It don't work in 1D array case.\n",
    "6. **numpy.concatenation((array_name1,array_name2...),axis=1)**: this is used to concat two or more arrays together. Axis is used if there is more than 1D array.By default axis value is 0."
   ]
  },
  {
   "cell_type": "code",
   "execution_count": 21,
   "metadata": {},
   "outputs": [
    {
     "name": "stdout",
     "output_type": "stream",
     "text": [
      "[[1 2 1]\n",
      " [2 3 2]]\n",
      "[[1 1 1]\n",
      " [2 2 2]]\n",
      "with axis 1\n",
      " [[1 2 1 1 1 1]\n",
      " [2 3 2 2 2 2]]\n",
      "with axis 0\n",
      " [[1 2 1]\n",
      " [2 3 2]\n",
      " [1 1 1]\n",
      " [2 2 2]]\n"
     ]
    }
   ],
   "source": [
    "n  =np.array([[1,2,1],[2,3,2]])\n",
    "nn = np.array([[1,1,1],[2,2,2]])\n",
    "print(n)\n",
    "print(nn)\n",
    "print(\"with axis 1\\n\",np.concatenate((n,nn),axis=1)) # this concats the array to the side of another array \n",
    "print(\"with axis 0\\n\",np.concatenate((n,nn),axis=0))# this concats the array to the below of another array\n"
   ]
  },
  {
   "cell_type": "markdown",
   "metadata": {},
   "source": [
    "## use of np.zero and np.ones to generate zero and ones array"
   ]
  },
  {
   "cell_type": "code",
   "execution_count": 27,
   "metadata": {},
   "outputs": [
    {
     "name": "stdout",
     "output_type": "stream",
     "text": [
      "[[[1 1 1]\n",
      "  [1 1 1]\n",
      "  [1 1 1]]\n",
      "\n",
      " [[1 1 1]\n",
      "  [1 1 1]\n",
      "  [1 1 1]]]\n"
     ]
    }
   ],
   "source": [
    "print(np.ones((2,3,3),dtype=np.int)) # first one gives the number of matrix needed"
   ]
  },
  {
   "cell_type": "code",
   "execution_count": 32,
   "metadata": {},
   "outputs": [
    {
     "name": "stdout",
     "output_type": "stream",
     "text": [
      "[[[1 1]\n",
      "  [1 1]]\n",
      "\n",
      " [[1 1]\n",
      "  [1 1]]\n",
      "\n",
      " [[1 1]\n",
      "  [1 1]]]\n"
     ]
    }
   ],
   "source": [
    "print(np.ones((3,2,2),dtype=np.int)) # next two tells the size of the matrix to be formed"
   ]
  },
  {
   "cell_type": "code",
   "execution_count": 33,
   "metadata": {},
   "outputs": [
    {
     "name": "stdout",
     "output_type": "stream",
     "text": [
      "[[[1 1]\n",
      "  [1 1]\n",
      "  [1 1]]\n",
      "\n",
      " [[1 1]\n",
      "  [1 1]\n",
      "  [1 1]]\n",
      "\n",
      " [[1 1]\n",
      "  [1 1]\n",
      "  [1 1]]]\n"
     ]
    }
   ],
   "source": [
    "print(np.ones((3,3,2),dtype=np.int)) # 2nd one tells the number of rows and 3rd one tells the number of column"
   ]
  },
  {
   "cell_type": "markdown",
   "metadata": {},
   "source": [
    "### Use of identity and eye function\n",
    "1. **We use identity(n)and np.eye(n,m,k)** : to create identity matrix of size in the argument... but in eye we can change the main diagnol of 1 by giving k a value +ve or -ve for up and down the diagnol of one."
   ]
  },
  {
   "cell_type": "code",
   "execution_count": 36,
   "metadata": {},
   "outputs": [
    {
     "name": "stdout",
     "output_type": "stream",
     "text": [
      "[[1. 0. 0.]\n",
      " [0. 1. 0.]\n",
      " [0. 0. 1.]]\n"
     ]
    }
   ],
   "source": [
    "#use of identity function\n",
    "print(np.identity(3))"
   ]
  },
  {
   "cell_type": "code",
   "execution_count": 40,
   "metadata": {},
   "outputs": [
    {
     "name": "stdout",
     "output_type": "stream",
     "text": [
      "[[0. 0. 0. 0.]\n",
      " [1. 0. 0. 0.]\n",
      " [0. 1. 0. 0.]\n",
      " [0. 0. 1. 0.]]\n"
     ]
    }
   ],
   "source": [
    "print(np.eye(4,4,-1))"
   ]
  },
  {
   "cell_type": "markdown",
   "metadata": {},
   "source": [
    "### Use of sum and prod"
   ]
  },
  {
   "cell_type": "code",
   "execution_count": 2,
   "metadata": {},
   "outputs": [
    {
     "name": "stdout",
     "output_type": "stream",
     "text": [
      "2 2\n",
      "1 2\n",
      "3 4\n",
      "[[1 2]\n",
      " [3 4]]\n",
      "[4 6]\n",
      "24\n"
     ]
    }
   ],
   "source": [
    "# we can use to sum the elements of the array and also find the product of the elements of the array using numpy\n",
    "n,m=map(int,input().split())\n",
    "arr = np.array([input().split() for _ in range(n)],int)\n",
    "print(arr)\n",
    "print(np.sum(arr,axis=0))\n",
    "print(np.product(np.sum(arr,0),0))\n"
   ]
  },
  {
   "cell_type": "markdown",
   "metadata": {},
   "source": [
    "### Use of min and max "
   ]
  },
  {
   "cell_type": "code",
   "execution_count": 10,
   "metadata": {},
   "outputs": [
    {
     "name": "stdout",
     "output_type": "stream",
     "text": [
      "[1 2]\n",
      "[3 4]\n",
      "[1 3]\n",
      "[2 4]\n"
     ]
    }
   ],
   "source": [
    "# min(): returns the min value of the array along the axis given\n",
    "arr # from the above cell\n",
    "print(np.min(arr,0))\n",
    "print(np.max(arr,0))\n",
    "print(np.min(arr,1))\n",
    "print(np.max(arr,1)) # 0- col wise, 1-row wise\n",
    "# nothing given in the axis then returns the min or max value from the whole array"
   ]
  },
  {
   "cell_type": "markdown",
   "metadata": {},
   "source": [
    "### Use of Mean,var,std : Mean, variance, std devatio\n",
    "**NOTE: If the axis is not given in this then it finds the var,Mean,std of the flattend array**"
   ]
  },
  {
   "cell_type": "code",
   "execution_count": 14,
   "metadata": {},
   "outputs": [
    {
     "name": "stdout",
     "output_type": "stream",
     "text": [
      "2.5\n",
      "1.25\n",
      "1.118033988749895\n"
     ]
    }
   ],
   "source": [
    "print(np.mean(arr))\n",
    "print(np.var(arr))\n",
    "print(np.std(arr))"
   ]
  },
  {
   "cell_type": "markdown",
   "metadata": {},
   "source": [
    "### 1. We can use dot and cross to find the dot and cross product of two or more array\n",
    "### 2. We can use inner and outer function to find the inner and outer product of two or matrix"
   ]
  },
  {
   "cell_type": "code",
   "execution_count": null,
   "metadata": {},
   "outputs": [],
   "source": []
  }
 ],
 "metadata": {
  "kernelspec": {
   "display_name": "Python 3",
   "language": "python",
   "name": "python3"
  },
  "language_info": {
   "codemirror_mode": {
    "name": "ipython",
    "version": 3
   },
   "file_extension": ".py",
   "mimetype": "text/x-python",
   "name": "python",
   "nbconvert_exporter": "python",
   "pygments_lexer": "ipython3",
   "version": "3.7.3"
  }
 },
 "nbformat": 4,
 "nbformat_minor": 2
}

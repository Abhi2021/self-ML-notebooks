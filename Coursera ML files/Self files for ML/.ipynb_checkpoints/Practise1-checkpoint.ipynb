{
 "cells": [
  {
   "cell_type": "markdown",
   "metadata": {},
   "source": [
    "# This is for practise from coursera"
   ]
  },
  {
   "cell_type": "markdown",
   "metadata": {},
   "source": [
    "## Numpy\n",
    "1) This is numerical python module  \n",
    "2) This is used to get solve all the numerical problem solved"
   ]
  },
  {
   "cell_type": "markdown",
   "metadata": {},
   "source": [
    "## Use of numpy array"
   ]
  },
  {
   "cell_type": "code",
   "execution_count": 1,
   "metadata": {},
   "outputs": [
    {
     "name": "stdout",
     "output_type": "stream",
     "text": [
      "<class 'numpy.ndarray'>\n",
      "[1 2 3 4 4 5 6]\n"
     ]
    }
   ],
   "source": [
    "# creating an array and printing the values\n",
    "import numpy as np\n",
    "s =np.array([1,2,3,6,5,4,4])\n",
    "print(type(s))\n",
    "s.sort()\n",
    "print(s)"
   ]
  },
  {
   "cell_type": "markdown",
   "metadata": {},
   "source": [
    "### NOTE:\n",
    "1. **numpy.shape()**: returns the shape of the array in row and column form, if the column number is not same then it only returns the row number.\n",
    "2. **numpy.reshape(arr_name,(row,col))**: this returns an array that is shaped as we have given in the argument. This doesn't effect the original array.\n",
    "3. **numpy.flatten(array_name)**: this is used to convert multidimensional array to 1D array. It creates a copy of the orignal array.\n",
    "4. **numpy.ravel(array_name)**: this is does also the same as above but it affects the orginal array.\n",
    "5. **numpy.traspose(array_name)**: this is used to do the transpose of the 2D array. It don't work in 1D array case.\n",
    "6. **numpy.concatenation((array_name1,array_name2...),axis=1)**: this is used to concat two or more arrays together. Axis is used if there is more than 1D array.By default axis value is 0."
   ]
  },
  {
   "cell_type": "code",
   "execution_count": 21,
   "metadata": {},
   "outputs": [
    {
     "name": "stdout",
     "output_type": "stream",
     "text": [
      "[[1 2 1]\n",
      " [2 3 2]]\n",
      "[[1 1 1]\n",
      " [2 2 2]]\n",
      "with axis 1\n",
      " [[1 2 1 1 1 1]\n",
      " [2 3 2 2 2 2]]\n",
      "with axis 0\n",
      " [[1 2 1]\n",
      " [2 3 2]\n",
      " [1 1 1]\n",
      " [2 2 2]]\n"
     ]
    }
   ],
   "source": [
    "n  =np.array([[1,2,1],[2,3,2]])\n",
    "nn = np.array([[1,1,1],[2,2,2]])\n",
    "print(n)\n",
    "print(nn)\n",
    "print(\"with axis 1\\n\",np.concatenate((n,nn),axis=1)) # this concats the array to the side of another array \n",
    "print(\"with axis 0\\n\",np.concatenate((n,nn),axis=0))# this concats the array to the below of another array\n"
   ]
  },
  {
   "cell_type": "markdown",
   "metadata": {},
   "source": [
    "## use of np.zero and np.ones to generate zero and ones array"
   ]
  },
  {
   "cell_type": "code",
   "execution_count": 27,
   "metadata": {},
   "outputs": [
    {
     "name": "stdout",
     "output_type": "stream",
     "text": [
      "[[[1 1 1]\n",
      "  [1 1 1]\n",
      "  [1 1 1]]\n",
      "\n",
      " [[1 1 1]\n",
      "  [1 1 1]\n",
      "  [1 1 1]]]\n"
     ]
    }
   ],
   "source": [
    "print(np.ones((2,3,3),dtype=np.int)) # first one gives the number of matrix needed"
   ]
  },
  {
   "cell_type": "code",
   "execution_count": 32,
   "metadata": {},
   "outputs": [
    {
     "name": "stdout",
     "output_type": "stream",
     "text": [
      "[[[1 1]\n",
      "  [1 1]]\n",
      "\n",
      " [[1 1]\n",
      "  [1 1]]\n",
      "\n",
      " [[1 1]\n",
      "  [1 1]]]\n"
     ]
    }
   ],
   "source": [
    "print(np.ones((3,2,2),dtype=np.int)) # next two tells the size of the matrix to be formed"
   ]
  },
  {
   "cell_type": "code",
   "execution_count": 30,
   "metadata": {},
   "outputs": [
    {
     "name": "stdout",
     "output_type": "stream",
     "text": [
      "[[[1 1]\n",
      "  [1 1]\n",
      "  [1 1]]\n",
      "\n",
      " [[1 1]\n",
      "  [1 1]\n",
      "  [1 1]]\n",
      "\n",
      " [[1 1]\n",
      "  [1 1]\n",
      "  [1 1]]]\n"
     ]
    }
   ],
   "source": [
    "print(np.ones((3,3,2),dtype=np.int))"
   ]
  },
  {
   "cell_type": "code",
   "execution_count": null,
   "metadata": {},
   "outputs": [],
   "source": []
  }
 ],
 "metadata": {
  "kernelspec": {
   "display_name": "Python 3",
   "language": "python",
   "name": "python3"
  },
  "language_info": {
   "codemirror_mode": {
    "name": "ipython",
    "version": 3
   },
   "file_extension": ".py",
   "mimetype": "text/x-python",
   "name": "python",
   "nbconvert_exporter": "python",
   "pygments_lexer": "ipython3",
   "version": "3.7.3"
  }
 },
 "nbformat": 4,
 "nbformat_minor": 2
}

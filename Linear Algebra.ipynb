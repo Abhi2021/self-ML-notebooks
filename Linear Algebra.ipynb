{
 "cells": [
  {
   "cell_type": "markdown",
   "metadata": {},
   "source": [
    "# This is linear algebra functions and use\n",
    "## Scalers and Vectors"
   ]
  },
  {
   "cell_type": "markdown",
   "metadata": {},
   "source": [
    "Scaler = is a single number denoted as x <br>\n",
    "Vector = is a series or list or array of scalers denoted by X <br>\n",
    "* unlike list in python we in real life declare the dimension of the vector in row wise\n",
    "* but in python we cant therefore we use the column wise method to represent the vector"
   ]
  },
  {
   "cell_type": "code",
   "execution_count": 22,
   "metadata": {},
   "outputs": [],
   "source": [
    "import numpy as np"
   ]
  },
  {
   "cell_type": "code",
   "execution_count": 2,
   "metadata": {},
   "outputs": [
    {
     "name": "stdout",
     "output_type": "stream",
     "text": [
      "[4 5 6]\n"
     ]
    }
   ],
   "source": [
    "x1 = np.array([4,5,6])\n",
    "print(x1)"
   ]
  },
  {
   "cell_type": "code",
   "execution_count": 3,
   "metadata": {},
   "outputs": [
    {
     "name": "stdout",
     "output_type": "stream",
     "text": [
      "(3,)\n"
     ]
    }
   ],
   "source": [
    "print(x1.shape)"
   ]
  },
  {
   "cell_type": "code",
   "execution_count": 4,
   "metadata": {},
   "outputs": [
    {
     "name": "stdout",
     "output_type": "stream",
     "text": [
      "[[4]\n",
      " [5]\n",
      " [6]\n",
      " [8]]\n",
      "(4, 1)\n",
      "[4]\n",
      "4\n",
      "[[4 5]\n",
      " [6 8]]\n",
      "(2, 2)\n"
     ]
    }
   ],
   "source": [
    "x2 = np.array([[4],[5],[6],[8]])\n",
    "print(x2)\n",
    "print(x2.shape)\n",
    "print(x2[0])\n",
    "print(x2[0][0])\n",
    "\n",
    "# if we want to resize or flatten it then we use the function resize\n",
    "x2 = x2.reshape(-1,2) # we have used -1 bcoz we dont know the size of the array that y to reshape it we have used -1\n",
    "print(x2)\n",
    "print(x2.shape)"
   ]
  },
  {
   "cell_type": "markdown",
   "metadata": {},
   "source": [
    "# Metrices and Tensors"
   ]
  },
  {
   "cell_type": "markdown",
   "metadata": {},
   "source": [
    "### Tensor : \n",
    "is a generallization of array with more than two axis\n",
    "* tensors are the genrealization of the array if the matrix has more than two dimensions\n",
    "* we use them if we have to visualize more than two dimensions\n",
    "* third dimension can be said as depth"
   ]
  },
  {
   "cell_type": "code",
   "execution_count": 9,
   "metadata": {},
   "outputs": [
    {
     "name": "stdout",
     "output_type": "stream",
     "text": [
      "(3, 3)\n",
      "[[4 5 6]\n",
      " [7 8 9]\n",
      " [0 1 2]]\n",
      "8\n",
      "[[4 5 6]\n",
      " [2 2 2]\n",
      " [2 2 2]]\n"
     ]
    }
   ],
   "source": [
    "# Here X is the 2x2 matrix \n",
    "X = np.array([[4,5,6],[7,8,9],[0,1,2]])\n",
    "print(X.shape)\n",
    "print(X)\n",
    "\n",
    "print(X[1][1])\n",
    "X[1:,:]=2\n",
    "print(X)"
   ]
  },
  {
   "cell_type": "code",
   "execution_count": 17,
   "metadata": {},
   "outputs": [
    {
     "name": "stdout",
     "output_type": "stream",
     "text": [
      "[[[4 5 6]\n",
      "  [7 8 9]]\n",
      "\n",
      " [[1 3 4]\n",
      "  [2 3 5]]]\n",
      "(2, 2, 3)\n"
     ]
    }
   ],
   "source": [
    "# Here is the use of Tensors\n",
    "# this is used in nlp and deep learning alogirthms\n",
    "# this is used to represent n dimension matrix\n",
    "X  = np.array([[[4,5,6],[7,8,9]],\n",
    "               [[1,3,4],[2,3,5]]\n",
    "              ])\n",
    "print(X)\n",
    "print(X.shape)\n",
    "# here the 3rd dimension is the depth of the matrix "
   ]
  },
  {
   "cell_type": "markdown",
   "metadata": {},
   "source": [
    "(2,2,3) === has two rows with two as the depth and three is the number of elements inside it"
   ]
  },
  {
   "cell_type": "markdown",
   "metadata": {},
   "source": [
    "# Transpose of a Matrix"
   ]
  },
  {
   "cell_type": "markdown",
   "metadata": {},
   "source": [
    "* the row becomes the column and the column becomes the row of the matrix in 2D matrix"
   ]
  },
  {
   "cell_type": "code",
   "execution_count": 29,
   "metadata": {},
   "outputs": [
    {
     "name": "stdout",
     "output_type": "stream",
     "text": [
      "[[1 2 6]\n",
      " [4 5 7]]\n",
      "this is the transpose of the matrix X\n",
      "[[1 4]\n",
      " [2 5]\n",
      " [6 7]]\n"
     ]
    }
   ],
   "source": [
    "X = np.array([[1,2,6],\n",
    "              [4,5,7]])\n",
    "print(X)\n",
    "xt = np.transpose(X)\n",
    "print(\"this is the transpose of the matrix X\")\n",
    "print(xt)"
   ]
  },
  {
   "cell_type": "code",
   "execution_count": 30,
   "metadata": {},
   "outputs": [
    {
     "data": {
      "text/plain": [
       "array([[1, 2, 6],\n",
       "       [4, 5, 7]])"
      ]
     },
     "execution_count": 30,
     "metadata": {},
     "output_type": "execute_result"
    }
   ],
   "source": [
    "X"
   ]
  },
  {
   "cell_type": "code",
   "execution_count": 32,
   "metadata": {},
   "outputs": [
    {
     "name": "stdout",
     "output_type": "stream",
     "text": [
      "[[1]\n",
      " [2]\n",
      " [6]\n",
      " [4]\n",
      " [5]\n",
      " [7]]\n",
      "[[1 2 6 4 5 7]]\n",
      "(6, 1)\n"
     ]
    }
   ],
   "source": [
    "y = X.reshape(-1,1)\n",
    "print(y)\n",
    "print(np.transpose(y))\n",
    "print(y.shape)"
   ]
  },
  {
   "cell_type": "markdown",
   "metadata": {},
   "source": [
    "# Broadcasting"
   ]
  },
  {
   "cell_type": "markdown",
   "metadata": {},
   "source": [
    "* in this we can add the scaler to the vector and the numpy will add the scaler to each element of the vector or array\n",
    "* similarly we can add the vactor to a matrix and the numpy will add the vector to each column of the matrix\n",
    "* numpy allow us to do various operations on vactors and matrices"
   ]
  },
  {
   "cell_type": "markdown",
   "metadata": {},
   "source": [
    "l = [[1,2,3,4],[4,5,6,7]] <br>\n",
    "l = l+1 <br>\n",
    "the above will not work as this is a list but the numpy array can help us to do the same thing and give the output"
   ]
  },
  {
   "cell_type": "code",
   "execution_count": 37,
   "metadata": {},
   "outputs": [
    {
     "name": "stdout",
     "output_type": "stream",
     "text": [
      "[1 2 3 4]\n",
      "[ 1  4  9 16]\n",
      "the above is the square matrix\n",
      "[ 2  5 10 17]\n",
      "the above matrix is the added one matrix to each element\n"
     ]
    }
   ],
   "source": [
    "l= [1,2,3,4]\n",
    "l = np.array(l)\n",
    "print(l)\n",
    "l = l**2\n",
    "print(l)\n",
    "print(\"the above is the square matrix\")\n",
    "l += 1\n",
    "print (l)\n",
    "print(\"the above matrix is the added one matrix to each element\")"
   ]
  },
  {
   "cell_type": "markdown",
   "metadata": {},
   "source": [
    "### The above is the use of broadcasting "
   ]
  },
  {
   "cell_type": "code",
   "execution_count": null,
   "metadata": {},
   "outputs": [],
   "source": []
  },
  {
   "cell_type": "code",
   "execution_count": null,
   "metadata": {},
   "outputs": [],
   "source": []
  },
  {
   "cell_type": "markdown",
   "metadata": {},
   "source": [
    "# Matrix Multiplication"
   ]
  },
  {
   "cell_type": "markdown",
   "metadata": {},
   "source": [
    "* one is the element wise multiplication \n",
    "* second is the matrix multiplication by the help of np.dot() function\n",
    "## Element wise multiplication"
   ]
  },
  {
   "cell_type": "code",
   "execution_count": 40,
   "metadata": {},
   "outputs": [
    {
     "name": "stdout",
     "output_type": "stream",
     "text": [
      "[[1, 2, 3], [4, 5, 6], [7, 8, 9]]\n",
      "[[1. 0. 0.]\n",
      " [0. 1. 0.]\n",
      " [0. 0. 1.]]\n"
     ]
    }
   ],
   "source": [
    "X = [[1,2,3],[4,5,6],[7,8,9]]\n",
    "y= np.eye(3) # this is the identityy matrix\n",
    "print(X)\n",
    "print(y)"
   ]
  },
  {
   "cell_type": "code",
   "execution_count": 42,
   "metadata": {},
   "outputs": [
    {
     "name": "stdout",
     "output_type": "stream",
     "text": [
      "[[1. 0. 0.]\n",
      " [0. 5. 0.]\n",
      " [0. 0. 9.]]\n"
     ]
    }
   ],
   "source": [
    "pro = X * y\n",
    "print(pro)"
   ]
  },
  {
   "cell_type": "markdown",
   "metadata": {},
   "source": [
    "### Above is the element matrix\n",
    "* here each element is multiplied to the every corresponding element of the other matrix i.e. [00] with [00] of other matrix"
   ]
  },
  {
   "cell_type": "code",
   "execution_count": 49,
   "metadata": {},
   "outputs": [
    {
     "name": "stdout",
     "output_type": "stream",
     "text": [
      "[[ 1 -3  4]\n",
      " [-2 10 -7]\n",
      " [ 0  1  0]\n",
      " [ 0  0  0]]\n",
      "\n",
      "[[ 5  0]\n",
      " [-2 11]\n",
      " [-3 12]]\n",
      "\n",
      " the matrix multiplication of the two matrix is given below\n",
      "\n",
      "[[-1 15]\n",
      " [-9 26]\n",
      " [-2 11]\n",
      " [ 0  0]]\n"
     ]
    }
   ],
   "source": [
    "X = np.array([[1,-3,4],[-2,10,-7],[0,1,0],[0,0,0]])\n",
    "y = np.array([[5,0],[-2,11],[-3,12]])\n",
    "prod = np.dot(X,y)\n",
    "print(X)\n",
    "print()\n",
    "print(y)\n",
    "print()\n",
    "print(\" the matrix multiplication of the two matrix is given below\")\n",
    "print()\n",
    "print(prod)"
   ]
  },
  {
   "cell_type": "markdown",
   "metadata": {},
   "source": [
    "### Above is the matrix multiplication of the two matrix given"
   ]
  },
  {
   "cell_type": "code",
   "execution_count": null,
   "metadata": {},
   "outputs": [],
   "source": []
  },
  {
   "cell_type": "markdown",
   "metadata": {},
   "source": [
    "# Norms in a vector"
   ]
  },
  {
   "cell_type": "markdown",
   "metadata": {},
   "source": [
    "* norm is the measure of the size of the vector"
   ]
  },
  {
   "cell_type": "code",
   "execution_count": 48,
   "metadata": {},
   "outputs": [
    {
     "name": "stdout",
     "output_type": "stream",
     "text": [
      "6.0\n"
     ]
    }
   ],
   "source": [
    "x = np.array([[2,-2,1],[-1,2,-1],[2,-4,1]])\n",
    "l2 = np.linalg.norm(x)\n",
    "print(l2)"
   ]
  },
  {
   "cell_type": "code",
   "execution_count": null,
   "metadata": {},
   "outputs": [],
   "source": []
  }
 ],
 "metadata": {
  "kernelspec": {
   "display_name": "Python 3",
   "language": "python",
   "name": "python3"
  },
  "language_info": {
   "codemirror_mode": {
    "name": "ipython",
    "version": 3
   },
   "file_extension": ".py",
   "mimetype": "text/x-python",
   "name": "python",
   "nbconvert_exporter": "python",
   "pygments_lexer": "ipython3",
   "version": "3.7.3"
  }
 },
 "nbformat": 4,
 "nbformat_minor": 2
}
